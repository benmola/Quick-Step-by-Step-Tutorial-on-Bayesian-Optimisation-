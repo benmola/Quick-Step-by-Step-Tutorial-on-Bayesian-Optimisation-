{
 "cells": [
  {
   "cell_type": "markdown",
   "id": "607aaa90",
   "metadata": {},
   "source": [
    "# Hyperparameter Tuning Example: Random Forest with GPyOpt"
   ]
  },
  {
   "cell_type": "markdown",
   "id": "495edff3-a8c1-44ab-bd5b-7ef5cfb46c5a",
   "metadata": {},
   "source": [
    "Having explored the theoretical underpinnings of Bayesian Optimization (BO) and introduced key libraries, let’s now dive into a practical example: tuning hyperparameters for a **Random Forest (RF)** classifier using **GPyOpt**. We’ll use the **Breast Cancer Wisconsin dataset**, a standard benchmark for binary classification, to optimize three key hyperparameters: the number of trees, maximum depth, and minimum samples per split. Our focus is on maximizing validation accuracy, demonstrating BO’s ability to efficiently navigate the hyperparameter space for a real-world task.\n",
    "\n",
    "---\n",
    "\n",
    "## **Setup and Objective**\n",
    "\n",
    "We leverage the **Breast Cancer Wisconsin dataset**, consisting of 569 samples with 30 features, which we preprocess by standardizing the features and splitting the dataset into 70% training, 15% validation, and 15% test sets. The RF model is a robust ensemble method that combines multiple decision trees to improve generalization. Our goal is to maximize the validation accuracy, treated as a black-box function \\( f(\\mathbf{x}) \\), where \\( \\mathbf{x} = [n_{\\text{estimators}}, \\text{max\\_depth}, \\text{min\\_samples\\_split}] \\). GPyOpt employs a Gaussian Process (GP) to model this function and the **Probability of Improvement (PI)** acquisition function to select hyperparameter sets:\n",
    "$$\\mathrm{PI}_\\varepsilon(\\mathbf{x}) = \\Phi\\left( \\frac{\\mu(\\mathbf{x}) - f(\\mathbf{x}^+) - \\varepsilon}{\\sigma(\\mathbf{x})} \\right),$$\n",
    "\n",
    "where  $\\varepsilon$  is a small positive constant to encourage exploration.\n",
    "\n",
    "The hyperparameters to tune are:\n",
    "- **Number of trees** ( $n_{\\text{estimators}} \\in \\{50, 100, 150, 200, 250, 300\\} $): Controls the number of trees in the forest.\n",
    "- **Maximum depth** ($ \\text{max\\_depth} \\in \\{3, 5, 7, 9, 11, 13, 15\\} $): Limits the maximum depth of each tree.\n",
    "- **Minimum samples per split** ($ \\text{min\\_samples\\_split} \\in \\{2, 4, 6, 8, 10\\} $): Specifies the minimum number of samples required to split an internal node.\n",
    "\n",
    "---\n",
    "\n",
    "## **Code Implementation**\n",
    "\n",
    "We optimize three RF hyperparameters—number of trees, maximum depth, and minimum samples per split—using `GPyOpt` with a GP surrogate and **PI acquisition function**. The process involves:\n",
    "1. Loading and preprocessing the Breast Cancer dataset.\n",
    "2. Defining the RF architecture and objective function (negative validation accuracy).\n",
    "3. Setting the hyperparameter search space.\n",
    "4. Running BO with 10 initial random points and 20 iterations using MPI.\n",
    "5. Visualizing initial evaluations, convergence, and final model performance on the test set."
   ]
  },
  {
   "cell_type": "code",
   "execution_count": 2,
   "id": "e0fb6a80",
   "metadata": {},
   "outputs": [],
   "source": [
    "import numpy as np\n",
    "import matplotlib.pyplot as plt\n",
    "from sklearn.datasets import load_breast_cancer\n",
    "from sklearn.model_selection import train_test_split, cross_val_score\n",
    "from sklearn.ensemble import RandomForestClassifier\n",
    "from sklearn.preprocessing import StandardScaler\n",
    "from sklearn.metrics import accuracy_score, confusion_matrix\n",
    "import GPyOpt\n",
    "\n",
    "# Set random seed for reproducibility\n",
    "np.random.seed(42)"
   ]
  },
  {
   "cell_type": "code",
   "execution_count": 4,
   "id": "480bf3cf",
   "metadata": {},
   "outputs": [
    {
     "name": "stdout",
     "output_type": "stream",
     "text": [
      "Training samples: 397\n",
      "Validation samples: 86\n",
      "Test samples: 86\n"
     ]
    }
   ],
   "source": [
    "# Load and preprocess data\n",
    "data = load_breast_cancer()\n",
    "X, y = data.data, data.target\n",
    "\n",
    "# Split data\n",
    "X_temp, X_test, y_temp, y_test = train_test_split(X, y, test_size=0.15, random_state=42)\n",
    "X_train, X_val, y_train, y_val = train_test_split(X_temp, y_temp, test_size=0.176, random_state=42)  # 15% of original\n",
    "\n",
    "# Standardize features\n",
    "scaler = StandardScaler()\n",
    "X_train = scaler.fit_transform(X_train)\n",
    "X_val = scaler.transform(X_val)\n",
    "X_test = scaler.transform(X_test)\n",
    "\n",
    "print(f\"Training samples: {X_train.shape[0]}\")\n",
    "print(f\"Validation samples: {X_val.shape[0]}\")\n",
    "print(f\"Test samples: {X_test.shape[0]}\")"
   ]
  },
  {
   "cell_type": "code",
   "execution_count": 6,
   "id": "32ac5855",
   "metadata": {},
   "outputs": [],
   "source": [
    "def objective_function(params):\n",
    "    \"\"\"\n",
    "    RF objective function for Bayesian Optimization\n",
    "    Returns: Negative validation accuracy (for minimization)\n",
    "    \"\"\"\n",
    "    params = params[0]\n",
    "    n_estimators = int(params[0])\n",
    "    max_depth = int(params[1])\n",
    "    min_samples_split = int(params[2])\n",
    "    \n",
    "    model = RandomForestClassifier(\n",
    "        n_estimators=n_estimators,\n",
    "        max_depth=max_depth,\n",
    "        min_samples_split=min_samples_split,\n",
    "        random_state=42\n",
    "    )\n",
    "    \n",
    "    # 3-fold cross-validation\n",
    "    val_score = cross_val_score(model, X_train, y_train, cv=3).mean()\n",
    "    return -val_score"
   ]
  },
  {
   "cell_type": "code",
   "execution_count": 8,
   "id": "1293e889",
   "metadata": {},
   "outputs": [],
   "source": [
    "# Define search space\n",
    "bounds = [\n",
    "    {'name': 'n_estimators', 'type': 'discrete', 'domain': (50, 100, 150, 200, 250, 300)},\n",
    "    {'name': 'max_depth', 'type': 'discrete', 'domain': (3, 5, 7, 9, 11, 13, 15)},\n",
    "    {'name': 'min_samples_split', 'type': 'discrete', 'domain': (2, 4, 6, 8, 10)}\n",
    "]"
   ]
  },
  {
   "cell_type": "code",
   "execution_count": 35,
   "id": "d2739845",
   "metadata": {},
   "outputs": [],
   "source": [
    "# Initialize and run Bayesian Optimization\n",
    "optimizer = GPyOpt.methods.BayesianOptimization(\n",
    "    f=objective_function,\n",
    "    domain=bounds,\n",
    "    acquisition_type='MPI',\n",
    "    initial_design_numdata=10,\n",
    "    max_iter=30,\n",
    "    exact_feval=True\n",
    ")\n",
    "\n",
    "optimizer.run_optimization()"
   ]
  },
  {
   "cell_type": "code",
   "execution_count": 37,
   "id": "6739fdfc",
   "metadata": {},
   "outputs": [
    {
     "name": "stdout",
     "output_type": "stream",
     "text": [
      "Optimal Parameters:\n",
      "n_estimators: 250\n",
      "max_depth: 7\n",
      "min_samples_split: 2\n",
      "Validation Accuracy: 0.9571\n"
     ]
    }
   ],
   "source": [
    "# Get best parameters\n",
    "optimal_params = optimizer.x_opt\n",
    "best_score = -optimizer.fx_opt\n",
    "\n",
    "print(\"Optimal Parameters:\")\n",
    "print(f\"n_estimators: {int(best_params[0])}\")\n",
    "print(f\"max_depth: {int(best_params[1])}\")\n",
    "print(f\"min_samples_split: {int(best_params[2])}\")\n",
    "print(f\"Validation Accuracy: {best_score:.4f}\")"
   ]
  },
  {
   "cell_type": "code",
   "execution_count": 26,
   "id": "9432f7fe",
   "metadata": {},
   "outputs": [
    {
     "name": "stdout",
     "output_type": "stream",
     "text": [
      "\n",
      "Test Accuracy: 0.9535\n",
      "Confusion Matrix:\n",
      "[[29  3]\n",
      " [ 1 53]]\n"
     ]
    }
   ],
   "source": [
    "# Evaluate on test set\n",
    "best_model = RandomForestClassifier(\n",
    "    n_estimators=int(best_params[0]),\n",
    "    max_depth=int(best_params[1]),\n",
    "    min_samples_split=int(best_params[2]),\n",
    "    random_state=42\n",
    ")\n",
    "best_model.fit(X_train, y_train)\n",
    "test_pred = best_model.predict(X_test)\n",
    "test_acc = accuracy_score(y_test, test_pred)\n",
    "\n",
    "print(f\"\\nTest Accuracy: {test_acc:.4f}\")\n",
    "print(\"Confusion Matrix:\")\n",
    "print(confusion_matrix(y_test, test_pred))"
   ]
  },
  {
   "cell_type": "code",
   "execution_count": 28,
   "id": "db4aefbe",
   "metadata": {},
   "outputs": [
    {
     "data": {
      "image/png": "[encoded data removed]",
      "text/plain": [
       "<Figure size 1000x600 with 1 Axes>"
      ]
     },
     "metadata": {},
     "output_type": "display_data"
    }
   ],
   "source": [
    "# Plot convergence\n",
    "plt.figure(figsize=(10, 6))\n",
    "plt.plot(-optimizer.Y, 'ro-', label='Validation Accuracy')\n",
    "plt.xlabel('Iteration')\n",
    "plt.ylabel('Accuracy')\n",
    "plt.title('Convergence Plot')\n",
    "plt.legend()\n",
    "plt.show()"
   ]
  },
  {
   "cell_type": "markdown",
   "id": "0de596f2",
   "metadata": {},
   "source": [
    "## Key Differences from ANN Example\n",
    "1. **Simpler Dataset**: Breast Cancer dataset is faster to train\n",
    "2. **Discrete Parameters**: All RF hyperparameters are discrete\n",
    "3. **Cross-Validation**: Uses 3-fold CV instead of fixed validation set\n",
    "4. **Interpretability**: Random Forest inherently provides feature importance\n",
    "5. **Faster Training**: Each iteration completes quicker than ANNs\n",
    "\n",
    "## Optimization Insights\n",
    "- Bayesian Optimization efficiently explores hyperparameter combinations\n",
    "- Typically finds near-optimal parameters in 20-30 iterations\n",
    "- Visualizations help understand parameter importance and convergence"
   ]
  }
 ],
 "metadata": {
  "kernelspec": {
   "display_name": "Python 3 (ipykernel)",
   "language": "python",
   "name": "python3"
  },
  "language_info": {
   "codemirror_mode": {
    "name": "ipython",
    "version": 3
   },
   "file_extension": ".py",
   "mimetype": "text/x-python",
   "name": "python",
   "nbconvert_exporter": "python",
   "pygments_lexer": "ipython3",
   "version": "3.11.7"
  },
  "widgets": {
   "application/vnd.jupyter.widget-state+json": {
    "state": {},
    "version_major": 2,
    "version_minor": 0
   }
  }
 },
 "nbformat": 4,
 "nbformat_minor": 5
}
